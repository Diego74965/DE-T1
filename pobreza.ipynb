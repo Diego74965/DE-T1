{
 "cells": [
  {
   "cell_type": "markdown",
   "id": "c02d7845",
   "metadata": {},
   "source": [
    "# Análisis descriptivo de la pobreza multidimensional 2020\n",
    "<p style=\"text-align: center;\"> Diego Ariel Soto Díaz | 1797743 </p>\n",
    "<p style=\"text-align: center;\"> 05 de Marzo del 2023 </p>"
   ]
  },
  {
   "cell_type": "markdown",
   "id": "48425a4b",
   "metadata": {},
   "source": [
    "### Índice\n",
    "### 1.  [Introducción](#int)\n",
    "### 2.  [Relación entre educación y pobreza](#edu)\n",
    "### 3. [Relación entre etnicidad y pobreza](#etnia)\n",
    "### 4.  [Relación entre estado civil y pobreza](#edo)\n",
    "### 5.  [Relación entre trabajo y pobreza](#trab)\n",
    "#### -  [Formalidad y pobreza](#form)\n",
    "   #### -  [Tipo de trabajo y pobreza](#sinco)\n",
    "   #### -  [Empleo temporal y pobreza](#temp)\n",
    "### 7.  [Relación entre región geográfica y pobreza](#region)\n",
    "### 8.  [Relación entre discapacidad y pobreza](#disc)\n",
    "### 9.  [Conclusión](#conc)\n",
    "### 10.  [Anexo](#anexo)"
   ]
  },
  {
   "cell_type": "markdown",
   "id": "53e76f73",
   "metadata": {},
   "source": [
    "<span style=\"page-break-before: always !important\">⚀</span>"
   ]
  },
  {
   "cell_type": "markdown",
   "id": "58feb0c0",
   "metadata": {},
   "source": [
    "Utilizando la información del Consejo Nacional de Evaluación de la Política de Desarrollo Social (CONEVAL) del 2020, realizaremos un análisis descriptivo con los siguientes elementos:\n",
    "\n",
    "| Parámetro                                   |  Variable   | Key                         |\n",
    "|:--------------------------------------------|:-----------:|:----------------------------|\n",
    "| Sexo                                        | sexo        | 1 = Masculino, 2 = Femenino |\n",
    "| Edad en años                                | edad        |                             |\n",
    "| Se considera indígena                       | etnia       | 1 = Sí, 2 = No              |\n",
    "| Educación                                   | niv_ed      | 0 = Primaria incompleta o menos <br> 1 = Primaria completa o secundaria incompleta <br> 2 = Secundaria completa o media superior incompleta <br> 3 = Media superior completa o más |\n",
    "| Estado Civil                                | edo_conyug  | 1 = Unión libre <br> 2 = Casado <br> 3 = Separado <br> 4 = Divorciado <br> 5 = Viudo <br> 6 = Soltero |\n",
    "| Número de hijos                             | hijos_sob   |                             |\n",
    "| Ingreso corriente total del hogar           | ict         |                             |\n",
    "| Transferencias de programas sociales        |             |                             |\n",
    "| Remesas                                     | remesas     |                             |\n",
    "| Migración                                   |             |                             |\n",
    "| Ocupación                                   | sinco       | [Sistema Nacional de Clasificación de Ocupaciones, Pag. 4](https://www.snieg.mx/Documentos/Normatividad/Vigente/SINCO_2019.pdf#page=4) |\n",
    "| Experiencia                                 |             |                             |\n",
    "| Depósitos en cuentas de ahorros, etc.       | deposito    |                              |\n",
    "| Tipo de trabajo: temporal o permanente      | tipocontr   | 1 = Temporal, 2 = Permanente |\n",
    "| Grado de inseguridad alimentaria            | ins_ali     | 0 = Seguridad alimentaria <br> 1 = Inseguridad alimentaria leve <br> 2. Inseguridad alimentaria moderada <br> 3. Inseguridad alimentaria severa  |\n",
    "| Deudas                                      | deudas      |                             |\n",
    "| Formalidad vs informalidad                  | seguro      | 0 = No tiene seguro médico (informal) <br> 1 = Tiene seguro médico (formal) |\n",
    "| Tamaño de empresa en la que trabaja         | tam_emp     |                             |\n",
    "| Discapacidad                                | discap      | 0 = No presenta discapacidad <br> 1 = Presenta discapacidad |\n",
    "| Pobreza                                     | pobreza     | 0 = No pobre, 1 = Pobre                                     |\n",
    "| Pobreza extrema                             | pobreza_e   | 0 = No pobre extremo, 1 = Pobre extremo |\n",
    "\n",
    "\n"
   ]
  },
  {
   "cell_type": "markdown",
   "id": "70c9f5ab",
   "metadata": {},
   "source": [
    "#### Importamos librerías necesarias"
   ]
  },
  {
   "cell_type": "code",
   "execution_count": 3,
   "id": "c1385fc5",
   "metadata": {},
   "outputs": [],
   "source": [
    "import warnings\n",
    "warnings.filterwarnings('ignore')\n",
    "#Data wrangling\n",
    "import pandas as pd\n",
    "import numpy as np\n",
    "import random\n",
    "\n",
    "#Visualization\n",
    "import seaborn as sns\n",
    "import matplotlib.pyplot as plt\n",
    "#Jupyter notebook implementation\n",
    "%matplotlib inline"
   ]
  },
  {
   "cell_type": "code",
   "execution_count": 4,
   "id": "386e537c",
   "metadata": {},
   "outputs": [],
   "source": [
    "pobreza_df = pd.read_csv('pobreza_20.csv')"
   ]
  },
  {
   "cell_type": "markdown",
   "id": "02133655",
   "metadata": {},
   "source": [
    "Mantenemos las variables que vamos a utilizar"
   ]
  },
  {
   "cell_type": "code",
   "execution_count": 5,
   "id": "57c6e85d",
   "metadata": {
    "scrolled": false
   },
   "outputs": [],
   "source": [
    "df = pobreza_df[['ubica_geo','sexo', 'edad', 'etnia', 'niv_ed', 'edo_conyug', 'hijos_sob', 'ict', 'remesas', 'sinco', 'deposito', 'tipocontr', 'ins_ali', 'deudas', 'seguro', 'tam_emp', 'discap', 'pobreza', 'pobreza_e']]"
   ]
  },
  {
   "cell_type": "markdown",
   "id": "0020f695",
   "metadata": {},
   "source": [
    "#### Crear variables de estado y región"
   ]
  },
  {
   "cell_type": "code",
   "execution_count": 6,
   "id": "286a00ef",
   "metadata": {
    "tags": [
     "hide-output"
    ]
   },
   "outputs": [],
   "source": [
    "## Crear variable de estado desde ubica_geo\n",
    "\n",
    "# Añadir leading zero a ubica_geo\n",
    "df['ubica_geo'] = df['ubica_geo'].astype(str)\n",
    "df['ubica_geo'] = df['ubica_geo'].apply(lambda x: x.zfill(5))\n",
    "\n",
    "# Crear nueva variable de los primeros dos digitos de ubica_geo\n",
    "df['estado'] = df['ubica_geo'].str[:2]"
   ]
  },
  {
   "cell_type": "code",
   "execution_count": 7,
   "id": "70063770",
   "metadata": {
    "tags": [
     "hide-output"
    ]
   },
   "outputs": [],
   "source": [
    "#Crear variable región Norte: 1  Sur: 2 Este: 3 Oeste: 4\n",
    "region_dict = {'01':1, '02':4, '03': 4, '04': 2, '05': 1, '06': 4, '07': 2, '08': 1, '09': 3, '10': 1, '11': 3, '12': 2, '13': 3, '14': 4, '15': 3, '16': 4, '17': 3, '18': 4, '19': 1, '20': 2, '21': 3, '22': 3, '23': 2, '24': 3, '25': 4, '26': 4, '27': 2, '28': 1, '29': 3, '30': 3, '31': 2, '32': 1}\n",
    "estado_dict = {'01': 'Aguascalientes', '02': 'Baja California', '03': 'Baja California Sur', '04': 'Campeche', '05': 'Coahuila', '06': 'Colima', '07': 'Chiapas', '08': 'Chihuahua', '09': 'Ciudad de México', '10': 'Durango', '11': 'Guanajuato', '12': 'Guerrero', '13': 'Hidalgo','14': 'Jalisco','15': 'México','16': 'Michoacán','17': 'Morelos','18': 'Nayarit','19': 'Nuevo León','20': 'Oaxaca','21': 'Puebla','22': 'Querétaro','23': 'Quintana Roo','24': 'San Luis Potosí','25': 'Sinaloa','26': 'Sonora','27': 'Tabasco','28': 'Tamaulipas','29': 'Tlaxcala','30': 'Veracruz','31': 'Yucatán','32': 'Zacatecas'}\n",
    "\n",
    "df['region'] = df['estado'].apply(lambda x: region_dict.get(str(x), np.nan))\n",
    "df['estado_nombre'] = df['estado'].apply(lambda x: estado_dict.get(str(x), np.nan))"
   ]
  },
  {
   "cell_type": "markdown",
   "id": "83d4eee2",
   "metadata": {},
   "source": [
    "<span style=\"page-break-before: always !important\">⚀</span>"
   ]
  },
  {
   "cell_type": "markdown",
   "id": "9bb65749",
   "metadata": {},
   "source": [
    "# Pobreza en México\n",
    "## Introducción <a name=\"int\"></a>\n",
    "\n",
    "La pobreza es uno de los mayores retos a los que se enfrenta México, un país con una gran diversidad cultural y geográfica. La medición y análisis de la pobreza es fundamental para comprender la situación socioeconómica de la población y diseñar políticas públicas efectivas para su reducción. \n",
    "\n",
    "El presente trabajo tiene como objetivo realizar un análisis descriptivo de la pobreza en México, tomando en cuenta diferentes dimensiones como ingreso, educación, edad y diversas características. Se utilizarán datos condensados por el CONEVAL y algunos otros, como la formalidad, etnicidad, ocupación, entre otros, de la Encuesta Nacional de Ingreso y Gasto de los Hogares (ENIGH) de la INEGI."
   ]
  },
  {
   "cell_type": "markdown",
   "id": "a985e87c",
   "metadata": {},
   "source": [
    "## Relación entre educación y pobreza por edad<a name=\"edu\"></a>\n",
    "\n",
    "A medida que se ha avanzado en la medición y análisis de la pobreza, se ha evidenciado que la educación es uno de los factores determinantes para superarla."
   ]
  },
  {
   "cell_type": "code",
   "execution_count": 8,
   "id": "0d7090ff",
   "metadata": {
    "tags": [
     "hide-input"
    ]
   },
   "outputs": [
    {
     "data": {
      "text/plain": [
       "<seaborn.axisgrid.FacetGrid at 0x2d92a1646a0>"
      ]
     },
     "execution_count": 8,
     "metadata": {},
     "output_type": "execute_result"
    },
    {
     "data": {
      "image/png": "[encoded data removed]",
      "text/plain": [
       "<Figure size 1272.12x300 with 4 Axes>"
      ]
     },
     "metadata": {},
     "output_type": "display_data"
    }
   ],
   "source": [
    "grid = sns.FacetGrid(pobreza_df, col = 'niv_ed', hue = 'pobreza')\n",
    "\n",
    "grid.map(plt.hist, 'edad', alpha = .5, bins = 20)\n",
    "grid.add_legend()"
   ]
  },
  {
   "cell_type": "code",
   "execution_count": 9,
   "id": "fe0c3a94",
   "metadata": {},
   "outputs": [
    {
     "data": {
      "text/html": [
       "<div>\n",
       "<style scoped>\n",
       "    .dataframe tbody tr th:only-of-type {\n",
       "        vertical-align: middle;\n",
       "    }\n",
       "\n",
       "    .dataframe tbody tr th {\n",
       "        vertical-align: top;\n",
       "    }\n",
       "\n",
       "    .dataframe thead th {\n",
       "        text-align: right;\n",
       "    }\n",
       "</style>\n",
       "<table border=\"1\" class=\"dataframe\">\n",
       "  <thead>\n",
       "    <tr style=\"text-align: right;\">\n",
       "      <th></th>\n",
       "      <th>niv_ed</th>\n",
       "      <th>pobreza</th>\n",
       "      <th>pobreza_e</th>\n",
       "    </tr>\n",
       "  </thead>\n",
       "  <tbody>\n",
       "    <tr>\n",
       "      <th>0</th>\n",
       "      <td>0.0</td>\n",
       "      <td>0.548382</td>\n",
       "      <td>0.132824</td>\n",
       "    </tr>\n",
       "    <tr>\n",
       "      <th>1</th>\n",
       "      <td>1.0</td>\n",
       "      <td>0.471824</td>\n",
       "      <td>0.101047</td>\n",
       "    </tr>\n",
       "    <tr>\n",
       "      <th>2</th>\n",
       "      <td>2.0</td>\n",
       "      <td>0.420102</td>\n",
       "      <td>0.064959</td>\n",
       "    </tr>\n",
       "    <tr>\n",
       "      <th>3</th>\n",
       "      <td>3.0</td>\n",
       "      <td>0.237818</td>\n",
       "      <td>0.025260</td>\n",
       "    </tr>\n",
       "  </tbody>\n",
       "</table>\n",
       "</div>"
      ],
      "text/plain": [
       "   niv_ed   pobreza  pobreza_e\n",
       "0     0.0  0.548382   0.132824\n",
       "1     1.0  0.471824   0.101047\n",
       "2     2.0  0.420102   0.064959\n",
       "3     3.0  0.237818   0.025260"
      ]
     },
     "execution_count": 9,
     "metadata": {},
     "output_type": "execute_result"
    }
   ],
   "source": [
    "pobreza_df[['niv_ed', 'pobreza', 'pobreza_e']].groupby(['niv_ed'], as_index = False).mean()"
   ]
  },
  {
   "cell_type": "markdown",
   "id": "6a5a649e",
   "metadata": {},
   "source": [
    "De la gráfica podemos observar que a medida de que el nivel educativo aumenta, la pobreza va disminuyendo en los grupos de edad más elevados. Esto podría explicarse de dos maneras:\n",
    "1. Las personas más viejas tienen más experiencia por lo que tienen un ingreso más alto.\n",
    "2. La educación superior tenía un mayor valor en el mercado laboral en el pasado que en la actualidad debido al aumento en la oferta de graduados universitarios.\n",
    "\n",
    "Siguiendo la idea del segundo punto, será interesante ver esta misma gráfica en 50 años y ver si esta misma relación sigue existiendo.\n",
    "\n",
    "En la tabla podemos ver la distribución de la pobreza en los diversos niveles educativos. El 54.83% de las personas con primaria incompleta o menos es pobre y el 13.28% es pobre extremo. Y al otro lado de la distribución están las personas con media superior completa o más. El 23.78% es pobre mientras que solamente el 2.52% se encuentra en pobreza extrema."
   ]
  },
  {
   "cell_type": "markdown",
   "id": "f9844b95",
   "metadata": {},
   "source": [
    "## Etnicidad y pobreza por edad <a name=\"etnia\"></a>"
   ]
  },
  {
   "cell_type": "code",
   "execution_count": 10,
   "id": "1731ce32",
   "metadata": {
    "tags": [
     "hide-input"
    ]
   },
   "outputs": [
    {
     "data": {
      "text/html": [
       "<div>\n",
       "<style scoped>\n",
       "    .dataframe tbody tr th:only-of-type {\n",
       "        vertical-align: middle;\n",
       "    }\n",
       "\n",
       "    .dataframe tbody tr th {\n",
       "        vertical-align: top;\n",
       "    }\n",
       "\n",
       "    .dataframe thead th {\n",
       "        text-align: right;\n",
       "    }\n",
       "</style>\n",
       "<table border=\"1\" class=\"dataframe\">\n",
       "  <thead>\n",
       "    <tr style=\"text-align: right;\">\n",
       "      <th></th>\n",
       "      <th>etnia</th>\n",
       "      <th>pobreza</th>\n",
       "    </tr>\n",
       "  </thead>\n",
       "  <tbody>\n",
       "    <tr>\n",
       "      <th>0</th>\n",
       "      <td>1.0</td>\n",
       "      <td>0.535840</td>\n",
       "    </tr>\n",
       "    <tr>\n",
       "      <th>1</th>\n",
       "      <td>2.0</td>\n",
       "      <td>0.364738</td>\n",
       "    </tr>\n",
       "  </tbody>\n",
       "</table>\n",
       "</div>"
      ],
      "text/plain": [
       "   etnia   pobreza\n",
       "0    1.0  0.535840\n",
       "1    2.0  0.364738"
      ]
     },
     "execution_count": 10,
     "metadata": {},
     "output_type": "execute_result"
    }
   ],
   "source": [
    "pobreza_df[['etnia', 'pobreza']].groupby(['etnia'], as_index = False).mean()"
   ]
  },
  {
   "cell_type": "code",
   "execution_count": 11,
   "id": "58cee078",
   "metadata": {
    "tags": [
     "hide-input"
    ]
   },
   "outputs": [
    {
     "data": {
      "text/plain": [
       "<seaborn.axisgrid.FacetGrid at 0x2d93ef99b80>"
      ]
     },
     "execution_count": 11,
     "metadata": {},
     "output_type": "execute_result"
    },
    {
     "data": {
      "image/png": "[encoded data removed]",
      "text/plain": [
       "<Figure size 672.125x300 with 2 Axes>"
      ]
     },
     "metadata": {},
     "output_type": "display_data"
    }
   ],
   "source": [
    "grid = sns.FacetGrid(pobreza_df, col = 'etnia', hue = 'pobreza')\n",
    "grid.map(plt.hist, 'edad', alpha = 0.5, bins = 20)\n",
    "grid.add_legend()"
   ]
  },
  {
   "cell_type": "markdown",
   "id": "96889c2a",
   "metadata": {},
   "source": [
    "Siguiendo el descriptor de bases de la ENIGH, cuando etnia toma el valor de 2 quiere decir que la persona **no** se considera indígena.\n",
    "\n",
    "La tabla muestra que el porcentaje de personas en situación de pobreza es más alto entre aquellas que se consideran indígenas (53.6%) en comparación con las que no se consideran (36.5%). Esto sugiere que existe una relación entre la pertenencia étnica y la pobreza, y que las poblaciones indígenas podrían estar en una situación de desventaja en términos socioeconómicos. Sin embargo, es importante tener en cuenta que esta relación podría estar influenciada por otros factores, como la ubicación geográfica o el acceso a recursos y oportunidades."
   ]
  },
  {
   "cell_type": "markdown",
   "id": "f1122a99",
   "metadata": {},
   "source": [
    "## Estado civil y pobreza <a name=\"edo\"></a>"
   ]
  },
  {
   "cell_type": "code",
   "execution_count": 12,
   "id": "e8e8c15e",
   "metadata": {},
   "outputs": [
    {
     "data": {
      "text/html": [
       "<div>\n",
       "<style scoped>\n",
       "    .dataframe tbody tr th:only-of-type {\n",
       "        vertical-align: middle;\n",
       "    }\n",
       "\n",
       "    .dataframe tbody tr th {\n",
       "        vertical-align: top;\n",
       "    }\n",
       "\n",
       "    .dataframe thead th {\n",
       "        text-align: right;\n",
       "    }\n",
       "</style>\n",
       "<table border=\"1\" class=\"dataframe\">\n",
       "  <thead>\n",
       "    <tr style=\"text-align: right;\">\n",
       "      <th></th>\n",
       "      <th>edo_conyug</th>\n",
       "      <th>pobreza</th>\n",
       "      <th>pobreza_e</th>\n",
       "    </tr>\n",
       "  </thead>\n",
       "  <tbody>\n",
       "    <tr>\n",
       "      <th>0</th>\n",
       "      <td>1.0</td>\n",
       "      <td>0.477919</td>\n",
       "      <td>0.107207</td>\n",
       "    </tr>\n",
       "    <tr>\n",
       "      <th>1</th>\n",
       "      <td>2.0</td>\n",
       "      <td>0.367542</td>\n",
       "      <td>0.068278</td>\n",
       "    </tr>\n",
       "    <tr>\n",
       "      <th>2</th>\n",
       "      <td>3.0</td>\n",
       "      <td>0.407070</td>\n",
       "      <td>0.069014</td>\n",
       "    </tr>\n",
       "    <tr>\n",
       "      <th>3</th>\n",
       "      <td>4.0</td>\n",
       "      <td>0.237537</td>\n",
       "      <td>0.024927</td>\n",
       "    </tr>\n",
       "    <tr>\n",
       "      <th>4</th>\n",
       "      <td>5.0</td>\n",
       "      <td>0.382192</td>\n",
       "      <td>0.070627</td>\n",
       "    </tr>\n",
       "    <tr>\n",
       "      <th>5</th>\n",
       "      <td>6.0</td>\n",
       "      <td>0.408685</td>\n",
       "      <td>0.075788</td>\n",
       "    </tr>\n",
       "  </tbody>\n",
       "</table>\n",
       "</div>"
      ],
      "text/plain": [
       "   edo_conyug   pobreza  pobreza_e\n",
       "0         1.0  0.477919   0.107207\n",
       "1         2.0  0.367542   0.068278\n",
       "2         3.0  0.407070   0.069014\n",
       "3         4.0  0.237537   0.024927\n",
       "4         5.0  0.382192   0.070627\n",
       "5         6.0  0.408685   0.075788"
      ]
     },
     "execution_count": 12,
     "metadata": {},
     "output_type": "execute_result"
    }
   ],
   "source": [
    "pobreza_df[['edo_conyug', 'pobreza', 'pobreza_e']].groupby(['edo_conyug'], as_index = False).mean()\n",
    "# 1. Vive con su pareja o unión libre\n",
    "# 2. Está casado(a)\n",
    "# 3. Está separado(a)\n",
    "# 4. Está divorciado(a)\n",
    "# 5. Es viudo(a)\n",
    "# 6. Está soltero(a)"
   ]
  },
  {
   "cell_type": "code",
   "execution_count": 13,
   "id": "13436907",
   "metadata": {},
   "outputs": [
    {
     "data": {
      "image/png": "[encoded data removed]",
      "text/plain": [
       "<Figure size 640x480 with 1 Axes>"
      ]
     },
     "metadata": {},
     "output_type": "display_data"
    }
   ],
   "source": [
    "pobreza_1 = df[df['pobreza'] == 1]['edo_conyug']\n",
    "pobreza_0 = df[df['pobreza'] == 0]['edo_conyug']\n",
    "\n",
    "plt.hist(pobreza_0, bins = 6, alpha = 0.5, label = 'no pobre')\n",
    "plt.hist(pobreza_1, bins = 6, alpha = 0.5, label = 'pobre')\n",
    "\n",
    "plt.xlabel('Estado civil')\n",
    "plt.ylabel('Count')\n",
    "plt.title('Histograma de estado civil y pobreza')\n",
    "plt.legend(loc='upper right')\n",
    "plt.show()"
   ]
  },
  {
   "cell_type": "markdown",
   "id": "54cdf401",
   "metadata": {},
   "source": [
    "La situación conyugal pudiera no ser un determinante relevante de la pobreza ya que las personas de todos los estados civiles tienen una tasa de pobreza significativa. \n",
    "\n",
    "Existe una diferencia significativa entre las personas que viven con su pareja (unión libre) y las personas casadas, una teoría obvia es que las personas sin dinero es menos probable que se casen por lo que permanecen en unión libre. \n",
    "\n",
    "Las personas que viven con su pareja tienen la tasa más alta de pobreza, seguidas por los separados y los solteros. Mientras que las personas divorciadas y casadas tienen tasas de pobreza relativamente más bajas. Siendo las personas divorciadas las _menos pobres_. Esto puede explicarse con que un divorcio es costoso por los que aquellos con más dinero estarían dispuestos a pagarlo mientras que los demás simplemente se separan."
   ]
  },
  {
   "cell_type": "markdown",
   "id": "28de8baa",
   "metadata": {},
   "source": [
    "<span style=\"page-break-before: always !important\">⚀</span>"
   ]
  },
  {
   "cell_type": "markdown",
   "id": "da82868c",
   "metadata": {},
   "source": [
    "## Relación entre trabajo y pobreza <a name=\"trab\"></a>\n"
   ]
  },
  {
   "cell_type": "markdown",
   "id": "5cae9f20",
   "metadata": {},
   "source": [
    "El trabajo es una de las principales fuentes de ingresos para la población y juega un papel fundamental en la lucha contra la pobreza. Sin embargo, la calidad del trabajo y su formalidad pueden tener un impacto significativo en la reducción de la pobreza. Es importante explorar la relación entre el trabajo y la pobreza para desarrollar políticas y programas efectivos que promuevan empleos de calidad y reduzcan la pobreza."
   ]
  },
  {
   "cell_type": "markdown",
   "id": "3fa70866",
   "metadata": {},
   "source": [
    "### Formalidad y pobreza <a name=\"form\"></a>"
   ]
  },
  {
   "cell_type": "markdown",
   "id": "a74b116b",
   "metadata": {},
   "source": [
    "En general, se considera que las personas que trabajan en empleos informales tienen menos estabilidad laboral, menores ingresos, menor acceso a prestaciones laborales y menos oportunidades de capacitación y desarrollo profesional en comparación con aquellos que trabajan en empleos formales. \n",
    "Esto puede conducir a una mayor vulnerabilidad económica y a una mayor probabilidad de caer en la pobreza.\n",
    "\n",
    "Así como Levy (2008) y diversos autores, consideramos como un trabajador formal a aquel cuyo trabajo le proporciona un seguro médico."
   ]
  },
  {
   "cell_type": "code",
   "execution_count": 14,
   "id": "060fe458",
   "metadata": {
    "scrolled": true
   },
   "outputs": [
    {
     "data": {
      "text/html": [
       "<div>\n",
       "<style scoped>\n",
       "    .dataframe tbody tr th:only-of-type {\n",
       "        vertical-align: middle;\n",
       "    }\n",
       "\n",
       "    .dataframe tbody tr th {\n",
       "        vertical-align: top;\n",
       "    }\n",
       "\n",
       "    .dataframe thead th {\n",
       "        text-align: right;\n",
       "    }\n",
       "</style>\n",
       "<table border=\"1\" class=\"dataframe\">\n",
       "  <thead>\n",
       "    <tr style=\"text-align: right;\">\n",
       "      <th></th>\n",
       "      <th>seguro</th>\n",
       "      <th>pobreza</th>\n",
       "      <th>pobreza_e</th>\n",
       "    </tr>\n",
       "  </thead>\n",
       "  <tbody>\n",
       "    <tr>\n",
       "      <th>0</th>\n",
       "      <td>0.0</td>\n",
       "      <td>0.480393</td>\n",
       "      <td>0.082433</td>\n",
       "    </tr>\n",
       "    <tr>\n",
       "      <th>1</th>\n",
       "      <td>1.0</td>\n",
       "      <td>0.115569</td>\n",
       "      <td>0.002957</td>\n",
       "    </tr>\n",
       "  </tbody>\n",
       "</table>\n",
       "</div>"
      ],
      "text/plain": [
       "   seguro   pobreza  pobreza_e\n",
       "0     0.0  0.480393   0.082433\n",
       "1     1.0  0.115569   0.002957"
      ]
     },
     "execution_count": 14,
     "metadata": {},
     "output_type": "execute_result"
    }
   ],
   "source": [
    "pobreza_df[['seguro', 'pobreza', 'pobreza_e']].groupby(['seguro'], as_index = False).mean()"
   ]
  },
  {
   "cell_type": "code",
   "execution_count": 15,
   "id": "20b4ead4",
   "metadata": {
    "scrolled": true
   },
   "outputs": [
    {
     "data": {
      "text/html": [
       "<div>\n",
       "<style scoped>\n",
       "    .dataframe tbody tr th:only-of-type {\n",
       "        vertical-align: middle;\n",
       "    }\n",
       "\n",
       "    .dataframe tbody tr th {\n",
       "        vertical-align: top;\n",
       "    }\n",
       "\n",
       "    .dataframe thead th {\n",
       "        text-align: right;\n",
       "    }\n",
       "</style>\n",
       "<table border=\"1\" class=\"dataframe\">\n",
       "  <thead>\n",
       "    <tr style=\"text-align: right;\">\n",
       "      <th></th>\n",
       "      <th>pobreza_e</th>\n",
       "      <th>seguro</th>\n",
       "    </tr>\n",
       "  </thead>\n",
       "  <tbody>\n",
       "    <tr>\n",
       "      <th>0</th>\n",
       "      <td>0.0</td>\n",
       "      <td>0.508931</td>\n",
       "    </tr>\n",
       "    <tr>\n",
       "      <th>1</th>\n",
       "      <td>1.0</td>\n",
       "      <td>0.033087</td>\n",
       "    </tr>\n",
       "  </tbody>\n",
       "</table>\n",
       "</div>"
      ],
      "text/plain": [
       "   pobreza_e    seguro\n",
       "0        0.0  0.508931\n",
       "1        1.0  0.033087"
      ]
     },
     "execution_count": 15,
     "metadata": {},
     "output_type": "execute_result"
    }
   ],
   "source": [
    "pobreza_df[['pobreza_e', 'seguro']].groupby(['pobreza_e'], as_index = False).mean()"
   ]
  },
  {
   "cell_type": "markdown",
   "id": "b78d50d2",
   "metadata": {},
   "source": [
    "La primera tabla nos muestra el porcentaje del total de personas con o sin seguro que son pobres (pobreza) o pobres extremo (pobreza_e). El 48.03% de las personas que no tienen seguro son pobres mientras que el 8.24% están en pobreza extrema. En contraste, el 11.55% de las personas que sí tienen seguro son pobres y solamente el 0.3% se encuentran en pobreza extrema.\n",
    "\n",
    "La segunda tabla se enfoca en la pobreza extrema y nos dice que el 3.3% de las personas en pobreza extrema tienen seguro, en comparación el 50.9% de las personas que no están en pobreza extrema sí tienen seguro.\n",
    "\n",
    "También podemos añadirle la dimensión de edad de la siguiente manera"
   ]
  },
  {
   "cell_type": "code",
   "execution_count": 16,
   "id": "4cd46d68",
   "metadata": {
    "scrolled": true,
    "tags": [
     "hide-input"
    ]
   },
   "outputs": [
    {
     "data": {
      "text/plain": [
       "<seaborn.axisgrid.FacetGrid at 0x2d93e649a30>"
      ]
     },
     "execution_count": 16,
     "metadata": {},
     "output_type": "execute_result"
    },
    {
     "data": {
      "image/png": "[encoded data removed]",
      "text/plain": [
       "<Figure size 672.125x300 with 2 Axes>"
      ]
     },
     "metadata": {},
     "output_type": "display_data"
    }
   ],
   "source": [
    "grid = sns.FacetGrid(pobreza_df, col = 'seguro', hue = 'pobreza')\n",
    "grid.map(plt.hist, 'edad', alpha = 0.5, bins = 20)\n",
    "grid.add_legend()"
   ]
  },
  {
   "cell_type": "markdown",
   "id": "60db1488",
   "metadata": {},
   "source": [
    "<div class=text-justify>\n",
    "Se puede concluir que existe una relación significativa entre el tipo de empleo y la pobreza. Como podemos ver en la gráfica, la mitad de las personas con trabajo informal son pobres sin importar en que grupo de edad se encuentre, mientras que solamente el 11.55% de las personas con trabajo formal son pobres.\n",
    "  \n",
    "<br> Es posible que esta diferencia se deba a diversas razones. En la mayoría de los casos, los trabajos informales pueden no ofrecer salarios estables o prestaciones laborales, lo que hace que las personas con trabajos informales tengan mayor dificultad para cubrir sus necesidades básicas.\n",
    "    \n",
    "También es posible que los trabajos informales no requieran una educación formal o capacitación especializada, lo que limita las oportunidades de progreso y crecimiento laboral, por lo que limita las oportunidades de aumentar los ingresos.\n",
    "</div>"
   ]
  },
  {
   "cell_type": "markdown",
   "id": "9103cc20",
   "metadata": {},
   "source": []
  },
  {
   "cell_type": "markdown",
   "id": "bf65f885",
   "metadata": {},
   "source": []
  },
  {
   "cell_type": "markdown",
   "id": "9ece243d",
   "metadata": {},
   "source": []
  },
  {
   "cell_type": "markdown",
   "id": "da7d99bc",
   "metadata": {},
   "source": []
  },
  {
   "cell_type": "markdown",
   "id": "6b94c401",
   "metadata": {},
   "source": []
  },
  {
   "cell_type": "markdown",
   "id": "c74324d5",
   "metadata": {},
   "source": []
  },
  {
   "cell_type": "markdown",
   "id": "026d5c0a",
   "metadata": {},
   "source": []
  },
  {
   "cell_type": "markdown",
   "id": "88f06aed",
   "metadata": {},
   "source": []
  },
  {
   "cell_type": "markdown",
   "id": "58c3c019",
   "metadata": {},
   "source": []
  },
  {
   "cell_type": "markdown",
   "id": "e4fb3a29",
   "metadata": {},
   "source": []
  },
  {
   "cell_type": "markdown",
   "id": "ca5470a5",
   "metadata": {},
   "source": [
    "### Tipo de empleo y pobreza <a name=\"sinco\"></a>"
   ]
  },
  {
   "cell_type": "markdown",
   "id": "6a1d8175",
   "metadata": {},
   "source": [
    "La relación entre el tipo de empleo y la pobreza es un tema de gran interés en el análisis económico y social. La calidad del trabajo puede influir significativamente en los ingresos y en el acceso a beneficios y protección social, lo que a su vez puede tener un impacto en la pobreza y la desigualdad. Algunos tipos de empleo, como los trabajos agrícolas o artesanales, suelen tener salarios más bajos, menor protección social y mayores riesgos de inestabilidad laboral. En contraste, empleos con condiciones laborales más estables y con mayores beneficios sociales pueden contribuir a reducir la pobreza y la desigualdad. Por lo tanto, es importante entender la relación entre el tipo de empleo y la pobreza para poder diseñar políticas efectivas de reducción de la pobreza y la desigualdad."
   ]
  },
  {
   "cell_type": "markdown",
   "id": "7a155dc5",
   "metadata": {},
   "source": [
    "El INEGI, a través del Sistema Nacional de Clasificación de Ocupaciones (sinco) categoriza los trabajos de la siguiente manera:\n",
    "1.  *Funcionarios, directores y jefes*\n",
    "2.  *Profesionistas y técnicos*\n",
    "3.  *Trabajadores auxiliaries en actividades administrativas*\n",
    "4.  *Comerciantes, empleados en ventas y agentes de ventas*\n",
    "5.  *Trabajadores en servicios personales y de vigilancia*\n",
    "6.  *Trabajadores en actividades agrícolas, ganaderas, forestales, caza y pesca*\n",
    "7.  *Trabajadores artesanales, en las construcción u otros oficios*\n",
    "8.  *Operadores de maquinaria industrial, ensambladores, choferes y conductores de transporte*\n",
    "9.  *Trabajadores en actividades elemenatles y de apoyo*\n"
   ]
  },
  {
   "cell_type": "code",
   "execution_count": 18,
   "id": "75febfe5",
   "metadata": {},
   "outputs": [
    {
     "data": {
      "text/html": [
       "<div>\n",
       "<style scoped>\n",
       "    .dataframe tbody tr th:only-of-type {\n",
       "        vertical-align: middle;\n",
       "    }\n",
       "\n",
       "    .dataframe tbody tr th {\n",
       "        vertical-align: top;\n",
       "    }\n",
       "\n",
       "    .dataframe thead th {\n",
       "        text-align: right;\n",
       "    }\n",
       "</style>\n",
       "<table border=\"1\" class=\"dataframe\">\n",
       "  <thead>\n",
       "    <tr style=\"text-align: right;\">\n",
       "      <th></th>\n",
       "      <th>trabajo</th>\n",
       "      <th>pobreza</th>\n",
       "      <th>pobreza_e</th>\n",
       "    </tr>\n",
       "  </thead>\n",
       "  <tbody>\n",
       "    <tr>\n",
       "      <th>1</th>\n",
       "      <td>1.0</td>\n",
       "      <td>0.076080</td>\n",
       "      <td>0.004166</td>\n",
       "    </tr>\n",
       "    <tr>\n",
       "      <th>2</th>\n",
       "      <td>2.0</td>\n",
       "      <td>0.143903</td>\n",
       "      <td>0.013314</td>\n",
       "    </tr>\n",
       "    <tr>\n",
       "      <th>3</th>\n",
       "      <td>3.0</td>\n",
       "      <td>0.156028</td>\n",
       "      <td>0.010430</td>\n",
       "    </tr>\n",
       "    <tr>\n",
       "      <th>8</th>\n",
       "      <td>8.0</td>\n",
       "      <td>0.235481</td>\n",
       "      <td>0.019864</td>\n",
       "    </tr>\n",
       "    <tr>\n",
       "      <th>5</th>\n",
       "      <td>5.0</td>\n",
       "      <td>0.320686</td>\n",
       "      <td>0.035480</td>\n",
       "    </tr>\n",
       "    <tr>\n",
       "      <th>4</th>\n",
       "      <td>4.0</td>\n",
       "      <td>0.358844</td>\n",
       "      <td>0.044739</td>\n",
       "    </tr>\n",
       "    <tr>\n",
       "      <th>7</th>\n",
       "      <td>7.0</td>\n",
       "      <td>0.446248</td>\n",
       "      <td>0.076118</td>\n",
       "    </tr>\n",
       "    <tr>\n",
       "      <th>0</th>\n",
       "      <td>0.0</td>\n",
       "      <td>0.464451</td>\n",
       "      <td>0.086746</td>\n",
       "    </tr>\n",
       "    <tr>\n",
       "      <th>9</th>\n",
       "      <td>9.0</td>\n",
       "      <td>0.504758</td>\n",
       "      <td>0.115101</td>\n",
       "    </tr>\n",
       "    <tr>\n",
       "      <th>6</th>\n",
       "      <td>6.0</td>\n",
       "      <td>0.574947</td>\n",
       "      <td>0.191360</td>\n",
       "    </tr>\n",
       "  </tbody>\n",
       "</table>\n",
       "</div>"
      ],
      "text/plain": [
       "   trabajo   pobreza  pobreza_e\n",
       "1      1.0  0.076080   0.004166\n",
       "2      2.0  0.143903   0.013314\n",
       "3      3.0  0.156028   0.010430\n",
       "8      8.0  0.235481   0.019864\n",
       "5      5.0  0.320686   0.035480\n",
       "4      4.0  0.358844   0.044739\n",
       "7      7.0  0.446248   0.076118\n",
       "0      0.0  0.464451   0.086746\n",
       "9      9.0  0.504758   0.115101\n",
       "6      6.0  0.574947   0.191360"
      ]
     },
     "execution_count": 18,
     "metadata": {},
     "output_type": "execute_result"
    }
   ],
   "source": [
    "df[\"sinco\"] = df['sinco'].fillna(0)\n",
    "df[\"trabajo\"] = df.sinco.astype(str).str[:1]\n",
    "df[\"trabajo\"] = df[\"trabajo\"].astype(float)\n",
    "df[['trabajo', 'pobreza', 'pobreza_e']].groupby(['trabajo'], as_index = False).mean().sort_values(by = 'pobreza', ascending = True)"
   ]
  },
  {
   "cell_type": "code",
   "execution_count": 19,
   "id": "05f16e0a",
   "metadata": {},
   "outputs": [
    {
     "data": {
      "image/png": "[encoded data removed]",
      "text/plain": [
       "<Figure size 640x480 with 1 Axes>"
      ]
     },
     "metadata": {},
     "output_type": "display_data"
    }
   ],
   "source": [
    "pobreza_1 = df[df['pobreza'] == 1]['trabajo']\n",
    "pobreza_0 = df[df['pobreza'] == 0]['trabajo']\n",
    "\n",
    "plt.hist(pobreza_0, alpha = 0.5, label = 'no pobre')\n",
    "plt.hist(pobreza_1, alpha = 0.5, label = 'pobre')\n",
    "plt.xlim(1,9)\n",
    "plt.ylim(0, 25000)\n",
    "plt.xlabel('Ocupación')\n",
    "plt.ylabel('Count')\n",
    "plt.title('Histograma de ocupación y pobreza')\n",
    "plt.legend(loc='upper right')\n",
    "plt.show()"
   ]
  },
  {
   "cell_type": "markdown",
   "id": "cb4abb33",
   "metadata": {},
   "source": [
    "A partir de los datos proporcionados, se puede concluir que hay una fuerte relación entre el tipo de trabajo y la pobreza en México. En general, las personas que trabajan en ocupaciones que requieren habilidades y educación más avanzadas, como los funcionarios, directores y jefes, y los profesionales y técnicos, tienen tasas de pobreza significativamente más bajas en comparación con los trabajadores en ocupaciones que no requieren tanta educación o habilidades especializadas.\n",
    "\n",
    "Los trabajos donde hay menos pobres, proporcionalmente, son:\n",
    "- ***Funcionarios, directores y jefes (1).***\n",
    "- ***Profesionistas y técnicos (2).***\n",
    "\n",
    "Mientras que los trabajos con más población en pobreza son:\n",
    "\n",
    "- ***Trabajadores en actividades agrícolas, ganaderas, forestales, caza y pesca (9).***\n",
    "- ***Trabajadores en actividades elementales y de apoyo (6).***\n",
    "\n",
    "Este último, según la INEGI, clasifican los trabajadores que auxilian los procesos productivos, realizando actividades sencillas\n",
    "y rutinarias que implican básicamente esfuerzo físico, destreza motriz y conocimientos básicos que se aprenden en la práctica en sólo unas jornadas de trabajo.\n",
    "\n",
    "Estos datos sugieren que la educación y las habilidades son factores importantes que influyen en las oportunidades laborales y la reducción de la pobreza en México. Además, indican la necesidad de políticas y programas que apoyen la formación y capacitación de habilidades para mejorar el acceso a trabajos mejor remunerados y reducir la pobreza en el país."
   ]
  },
  {
   "cell_type": "markdown",
   "id": "1dd65063",
   "metadata": {},
   "source": []
  },
  {
   "cell_type": "markdown",
   "id": "daf409fb",
   "metadata": {},
   "source": []
  },
  {
   "cell_type": "markdown",
   "id": "8a9011ca",
   "metadata": {},
   "source": [
    "### Trabajo temporal o permanente<a name=\"temp\"></a>"
   ]
  },
  {
   "cell_type": "markdown",
   "id": "60f890c9",
   "metadata": {},
   "source": [
    "El trabajo puede ser temporal o permanente, el primero es caracterizado por la falta de estabilidad laboral y se asocia con niveles más altos de pobreza. Con la variable tipocontr que toma el valor de 1 si el trabajo es temporal y 2 si es permanente, podemos analizar la relación que existe entre estos trabajos y la pobreza."
   ]
  },
  {
   "cell_type": "code",
   "execution_count": 20,
   "id": "ac25fdce",
   "metadata": {},
   "outputs": [
    {
     "data": {
      "text/html": [
       "<div>\n",
       "<style scoped>\n",
       "    .dataframe tbody tr th:only-of-type {\n",
       "        vertical-align: middle;\n",
       "    }\n",
       "\n",
       "    .dataframe tbody tr th {\n",
       "        vertical-align: top;\n",
       "    }\n",
       "\n",
       "    .dataframe thead th {\n",
       "        text-align: right;\n",
       "    }\n",
       "</style>\n",
       "<table border=\"1\" class=\"dataframe\">\n",
       "  <thead>\n",
       "    <tr style=\"text-align: right;\">\n",
       "      <th></th>\n",
       "      <th>tipocontr</th>\n",
       "      <th>pobreza</th>\n",
       "      <th>pobreza_e</th>\n",
       "    </tr>\n",
       "  </thead>\n",
       "  <tbody>\n",
       "    <tr>\n",
       "      <th>1</th>\n",
       "      <td>2.0</td>\n",
       "      <td>0.096048</td>\n",
       "      <td>0.001938</td>\n",
       "    </tr>\n",
       "    <tr>\n",
       "      <th>0</th>\n",
       "      <td>1.0</td>\n",
       "      <td>0.208609</td>\n",
       "      <td>0.013491</td>\n",
       "    </tr>\n",
       "  </tbody>\n",
       "</table>\n",
       "</div>"
      ],
      "text/plain": [
       "   tipocontr   pobreza  pobreza_e\n",
       "1        2.0  0.096048   0.001938\n",
       "0        1.0  0.208609   0.013491"
      ]
     },
     "execution_count": 20,
     "metadata": {},
     "output_type": "execute_result"
    }
   ],
   "source": [
    "pobreza_df[['tipocontr', 'pobreza', 'pobreza_e']].groupby(['tipocontr'], as_index = False).mean().sort_values(by = 'pobreza', ascending = True)"
   ]
  },
  {
   "cell_type": "markdown",
   "id": "70efcb9c",
   "metadata": {},
   "source": [
    "La tabla muestra la relación entre el tipo de contrato y la pobreza. Se observa que la tasa de pobreza es más alta en los empleos temporales (20.86%) en comparación con los empleos permanentes (9.60%). La pobreza extrema sigue esta misma relación con 1.35% de pobres en los empleos temporales y solamente 0.19% en los empleos permanentes. Esto sugiere que las personas que tienen empleos temporales tienen más probabilidades de vivir en condiciones de pobreza y pobreza extrema que su contraparte."
   ]
  },
  {
   "cell_type": "markdown",
   "id": "0305b1a0",
   "metadata": {},
   "source": [
    "<span style=\"page-break-before: always !important\">⚀</span>"
   ]
  },
  {
   "cell_type": "markdown",
   "id": "bc5ce43f",
   "metadata": {},
   "source": [
    "## Región y pobreza <a name=\"region\"></a>"
   ]
  },
  {
   "cell_type": "code",
   "execution_count": 21,
   "id": "90f13c70",
   "metadata": {},
   "outputs": [
    {
     "data": {
      "text/html": [
       "<div>\n",
       "<style scoped>\n",
       "    .dataframe tbody tr th:only-of-type {\n",
       "        vertical-align: middle;\n",
       "    }\n",
       "\n",
       "    .dataframe tbody tr th {\n",
       "        vertical-align: top;\n",
       "    }\n",
       "\n",
       "    .dataframe thead th {\n",
       "        text-align: right;\n",
       "    }\n",
       "</style>\n",
       "<table border=\"1\" class=\"dataframe\">\n",
       "  <thead>\n",
       "    <tr style=\"text-align: right;\">\n",
       "      <th></th>\n",
       "      <th>region</th>\n",
       "      <th>pobreza</th>\n",
       "      <th>pobreza_e</th>\n",
       "    </tr>\n",
       "  </thead>\n",
       "  <tbody>\n",
       "    <tr>\n",
       "      <th>0</th>\n",
       "      <td>1</td>\n",
       "      <td>0.324929</td>\n",
       "      <td>0.036523</td>\n",
       "    </tr>\n",
       "    <tr>\n",
       "      <th>1</th>\n",
       "      <td>2</td>\n",
       "      <td>0.598349</td>\n",
       "      <td>0.189446</td>\n",
       "    </tr>\n",
       "    <tr>\n",
       "      <th>2</th>\n",
       "      <td>3</td>\n",
       "      <td>0.494312</td>\n",
       "      <td>0.090436</td>\n",
       "    </tr>\n",
       "    <tr>\n",
       "      <th>3</th>\n",
       "      <td>4</td>\n",
       "      <td>0.292465</td>\n",
       "      <td>0.032161</td>\n",
       "    </tr>\n",
       "  </tbody>\n",
       "</table>\n",
       "</div>"
      ],
      "text/plain": [
       "   region   pobreza  pobreza_e\n",
       "0       1  0.324929   0.036523\n",
       "1       2  0.598349   0.189446\n",
       "2       3  0.494312   0.090436\n",
       "3       4  0.292465   0.032161"
      ]
     },
     "execution_count": 21,
     "metadata": {},
     "output_type": "execute_result"
    }
   ],
   "source": [
    "df[['region', 'pobreza', 'pobreza_e']].groupby(['region'], as_index = False).mean()"
   ]
  },
  {
   "cell_type": "code",
   "execution_count": 22,
   "id": "378f65ff",
   "metadata": {},
   "outputs": [
    {
     "data": {
      "text/plain": [
       "<seaborn.axisgrid.FacetGrid at 0x2d93c9ca490>"
      ]
     },
     "execution_count": 22,
     "metadata": {},
     "output_type": "execute_result"
    },
    {
     "data": {
      "image/png": "[encoded data removed]",
      "text/plain": [
       "<Figure size 1272.12x300 with 4 Axes>"
      ]
     },
     "metadata": {},
     "output_type": "display_data"
    }
   ],
   "source": [
    "grid = sns.FacetGrid(df, col = 'region', hue = 'pobreza')\n",
    "grid.map(plt.hist, 'edad', alpha = 0.5, bins = 20)\n",
    "grid.add_legend()"
   ]
  },
  {
   "cell_type": "markdown",
   "id": "c5c3248c",
   "metadata": {},
   "source": [
    "La tabla muestra la relación entre la región en México y los niveles de pobreza y pobreza extrema en esas regiones. Se puede observar que la región con menor nivel de pobreza es la región norte, con una tasa de pobreza del 32.49%, seguida por la región oeste con una tasa de pobreza del 29.25%.\n",
    "\n",
    "Por otro lado, la región con la tasa de pobreza más alta es la región sur, con un porcentaje del 59.83%. La región este también presenta una tasa alta de pobreza del 49.43%.\n",
    "\n",
    "En cuanto a la pobreza extrema, la región con menor tasa es la región norte con un 3.65%, seguida de la región oeste con un 3.22%. La región este presenta la tasa más alta con un 9.04%, mientras que la región sur también presenta una tasa alta de pobreza extrema del 18.94%.\n",
    "\n",
    "En conclusión, se puede observar que la región norte y oeste presentan los menores niveles de pobreza y pobreza extrema, mientras que las regiones este y sur presentan tasas más altas.\n",
    "\n",
    "Existen diversas explicaciones para esta situación, algunas de las cuales son:\n",
    "\n",
    "1. ***Diferencias en la estructura económica***: El norte y el oeste de México tienen una estructura económica más diversificada y dinámica, con sectores como la manufactura y la industria energética y minera, lo que les permite generar mayores empleos y mayores ingresos en comparación con el sur y el este, que tienen una economía más centrada en actividades primarias como la agricultura y la pesca.\n",
    "\n",
    "\n",
    "2. ***Niveles de inversión y desarrollo***: Las regiones del norte y oeste de México han recibido históricamente mayores niveles de inversión en infraestructura y desarrollo en comparación con el este y el sur, lo que les ha permitido tener una mayor capacidad para generar riqueza y empleos.\n",
    "\n",
    "\n",
    "3. ***Factores geográficos y climáticos***: El clima y las condiciones geográficas del sur y el este de México pueden hacer que ciertas actividades económicas sean menos viables o rentables, lo que a su vez puede limitar las oportunidades de empleo y los ingresos de las personas.\n",
    "\n",
    "\n",
    "4. ***Diferencias culturales***: Las regiones del norte y el oeste de México han tenido una mayor influencia de la cultura estadounidense, lo que ha impulsado una cultura empresarial más emprendedora y orientada a la generación de riqueza, mientras que en el sur y el este prevalecen culturas más tradicionales y comunitarias, en donde el valor de la comunidad y la familia se priorizan sobre el individualismo y la acumulación de riqueza."
   ]
  },
  {
   "cell_type": "markdown",
   "id": "c295c45a",
   "metadata": {},
   "source": [
    "## Discapacidad y pobreza <a name=\"disc\"></a>\n",
    "La discapacidad y la pobreza son dos realidades que están estrechamente relacionadas. Las personas con discapacidad se encuentran en una posición de vulnerabilidad en lo que respecta a su acceso a oportunidades laborales, educativas y sociales, lo que puede llevar a una mayor probabilidad de caer en la pobreza. A su vez, la falta de recursos económicos puede limitar el acceso a servicios y apoyos que las personas con discapacidad necesitan para participar plenamente en la sociedad. Por lo tanto, la discapacidad y la pobreza se convierten en un ciclo interconectado que puede ser difícil de romper sin políticas y medidas específicas para abordar ambos problemas."
   ]
  },
  {
   "cell_type": "markdown",
   "id": "a3d228c6",
   "metadata": {},
   "source": []
  },
  {
   "cell_type": "markdown",
   "id": "af846e96",
   "metadata": {},
   "source": []
  },
  {
   "cell_type": "markdown",
   "id": "ade5b49c",
   "metadata": {},
   "source": []
  },
  {
   "cell_type": "code",
   "execution_count": 23,
   "id": "1dd57be9",
   "metadata": {},
   "outputs": [
    {
     "data": {
      "text/html": [
       "<div>\n",
       "<style scoped>\n",
       "    .dataframe tbody tr th:only-of-type {\n",
       "        vertical-align: middle;\n",
       "    }\n",
       "\n",
       "    .dataframe tbody tr th {\n",
       "        vertical-align: top;\n",
       "    }\n",
       "\n",
       "    .dataframe thead th {\n",
       "        text-align: right;\n",
       "    }\n",
       "</style>\n",
       "<table border=\"1\" class=\"dataframe\">\n",
       "  <thead>\n",
       "    <tr style=\"text-align: right;\">\n",
       "      <th></th>\n",
       "      <th>discap</th>\n",
       "      <th>pobreza</th>\n",
       "      <th>pobreza_e</th>\n",
       "    </tr>\n",
       "  </thead>\n",
       "  <tbody>\n",
       "    <tr>\n",
       "      <th>0</th>\n",
       "      <td>0.0</td>\n",
       "      <td>0.418839</td>\n",
       "      <td>0.080646</td>\n",
       "    </tr>\n",
       "    <tr>\n",
       "      <th>1</th>\n",
       "      <td>1.0</td>\n",
       "      <td>0.472905</td>\n",
       "      <td>0.094627</td>\n",
       "    </tr>\n",
       "  </tbody>\n",
       "</table>\n",
       "</div>"
      ],
      "text/plain": [
       "   discap   pobreza  pobreza_e\n",
       "0     0.0  0.418839   0.080646\n",
       "1     1.0  0.472905   0.094627"
      ]
     },
     "execution_count": 23,
     "metadata": {},
     "output_type": "execute_result"
    }
   ],
   "source": [
    "df[['discap', 'pobreza', 'pobreza_e']].groupby(['discap'], as_index = False).mean()"
   ]
  },
  {
   "cell_type": "markdown",
   "id": "9edaa33b",
   "metadata": {},
   "source": [
    "Es notable destacar que los resultados obtenidos desafían algunas hipótesis previas. Se observa que la tasa de pobreza es casi igual entre las personas sin y con discapacidad (41.8% y 47.29% respectivamente). Existen diversas explicaciones por las cuales tener discapacidad no necesariamente implica estar en pobreza:\n",
    "1. La discapacidad no necesariamente implica una limitación para trabajar o generar ingresos. Muchas personas con discapacidad tienen habilidades que les permiten desempeñarse en distintas áreas laborales, lo que les permite generar ingresos.\n",
    "2. Existen políticas públicas y programas de apoyo específicos para personas con discapacidad que buscan garantizar su inclusión laboral y social.\n",
    "3. Las personas con discapacidad podrían tener una red de seguridad social importante que las apoyan económicamente."
   ]
  },
  {
   "cell_type": "markdown",
   "id": "2f7626ee",
   "metadata": {},
   "source": [
    "<span style=\"page-break-before: always !important\">⚀</span>"
   ]
  },
  {
   "cell_type": "markdown",
   "id": "fb3014ec",
   "metadata": {},
   "source": [
    "# Conculsión<a name=\"conc\"></a>\n",
    "En conclusión, la pobreza es un fenómeno complejo que está influenciado por una variedad de factores interrelacionados, tales como el nivel educativo, la etnicidad, el estado civil, el tipo de trabajo, la formalidad del empleo, la temporalidad del trabajo, la región geográfica y la discapacidad. A través de este trabajo, se ha podido evidenciar la complejidad de la relación entre estos factores y la pobreza. Si bien hay algunas tendencias claras, cada caso es único y requiere de un análisis cuidadoso y detallado para entender completamente las dinámicas y desafíos específicos que enfrentan las personas en situación de pobreza. Este trabajo puede servir como un punto de partida para futuras investigaciones y políticas que aborden los desafíos de la pobreza desde un enfoque multidimensional y holístico."
   ]
  },
  {
   "cell_type": "markdown",
   "id": "89fd05d9",
   "metadata": {},
   "source": []
  },
  {
   "cell_type": "markdown",
   "id": "7c0fec78",
   "metadata": {},
   "source": []
  },
  {
   "cell_type": "markdown",
   "id": "e1dbf3f2",
   "metadata": {},
   "source": []
  },
  {
   "cell_type": "markdown",
   "id": "002d2c96",
   "metadata": {},
   "source": []
  },
  {
   "cell_type": "markdown",
   "id": "3726a9fe",
   "metadata": {},
   "source": []
  },
  {
   "cell_type": "markdown",
   "id": "1ad4cd33",
   "metadata": {},
   "source": []
  },
  {
   "cell_type": "markdown",
   "id": "a0c8fa54",
   "metadata": {},
   "source": []
  },
  {
   "cell_type": "markdown",
   "id": "ea516a1c",
   "metadata": {},
   "source": []
  },
  {
   "cell_type": "markdown",
   "id": "9715e693",
   "metadata": {},
   "source": []
  },
  {
   "cell_type": "markdown",
   "id": "4ab5b354",
   "metadata": {},
   "source": []
  },
  {
   "cell_type": "markdown",
   "id": "bedb4afb",
   "metadata": {},
   "source": []
  },
  {
   "cell_type": "markdown",
   "id": "97511c6e",
   "metadata": {},
   "source": []
  },
  {
   "cell_type": "markdown",
   "id": "05827f50",
   "metadata": {},
   "source": []
  },
  {
   "cell_type": "markdown",
   "id": "663195ba",
   "metadata": {},
   "source": []
  },
  {
   "cell_type": "markdown",
   "id": "885f6022",
   "metadata": {},
   "source": [
    "# Anexo<a name=\"anexo\"></a>"
   ]
  },
  {
   "cell_type": "markdown",
   "id": "ab07f042",
   "metadata": {},
   "source": [
    "### Estados y la región a la que pertenecen"
   ]
  },
  {
   "cell_type": "code",
   "execution_count": 24,
   "id": "53a47b5d",
   "metadata": {},
   "outputs": [
    {
     "name": "stdout",
     "output_type": "stream",
     "text": [
      "estado       estado_nombre  region\n",
      "    01      Aguascalientes       1\n",
      "    02     Baja California       4\n",
      "    03 Baja California Sur       4\n",
      "    04            Campeche       2\n",
      "    05            Coahuila       1\n",
      "    06              Colima       4\n",
      "    07             Chiapas       2\n",
      "    08           Chihuahua       1\n",
      "    09    Ciudad de México       3\n",
      "    10             Durango       1\n",
      "    11          Guanajuato       3\n",
      "    12            Guerrero       2\n",
      "    13             Hidalgo       3\n",
      "    14             Jalisco       4\n",
      "    15              México       3\n",
      "    16           Michoacán       4\n",
      "    17             Morelos       3\n",
      "    18             Nayarit       4\n",
      "    19          Nuevo León       1\n",
      "    20              Oaxaca       2\n",
      "    21              Puebla       3\n",
      "    22           Querétaro       3\n",
      "    23        Quintana Roo       2\n",
      "    24     San Luis Potosí       3\n",
      "    25             Sinaloa       4\n",
      "    26              Sonora       4\n",
      "    27             Tabasco       2\n",
      "    28          Tamaulipas       1\n",
      "    29            Tlaxcala       3\n",
      "    30            Veracruz       3\n",
      "    31             Yucatán       2\n",
      "    32           Zacatecas       1\n"
     ]
    }
   ],
   "source": [
    "df1 = df.drop_duplicates(subset='estado')\n",
    "print(df1[['estado', 'estado_nombre', 'region']].to_string(index=False))\n",
    "\n",
    "# 1. Norte\n",
    "# 2. Sur\n",
    "# 3. Este\n",
    "# 4. Oeste"
   ]
  },
  {
   "cell_type": "markdown",
   "id": "59caaa0d",
   "metadata": {},
   "source": [
    "<p style=\"text-align: right;\"><sub> Regiones generadas por ChatGPT </sub></p>"
   ]
  }
 ],
 "metadata": {
  "kernelspec": {
   "display_name": "Python 3 (ipykernel)",
   "language": "python",
   "name": "python3"
  },
  "language_info": {
   "codemirror_mode": {
    "name": "ipython",
    "version": 3
   },
   "file_extension": ".py",
   "mimetype": "text/x-python",
   "name": "python",
   "nbconvert_exporter": "python",
   "pygments_lexer": "ipython3",
   "version": "3.9.15"
  }
 },
 "nbformat": 4,
 "nbformat_minor": 5
}
