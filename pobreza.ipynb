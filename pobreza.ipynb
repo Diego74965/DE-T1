{
 "cells": [
  {
   "cell_type": "markdown",
   "id": "c02d7845",
   "metadata": {},
   "source": [
    "# Análisis descriptivo de la pobreza multidimensional 2020"
   ]
  },
  {
   "cell_type": "markdown",
   "id": "58feb0c0",
   "metadata": {},
   "source": [
    "Utilizando la información del Consejo Nacional de Evaluación de la Política de Desarrollo Social (CONEVAL), realizaremos un análisis descriptivo con los siguientes elementos:\n",
    "- Sexo  -  sexo\n",
    "- Grupos de edad  -  edad\n",
    "- Etnicidad  -  etnia\n",
    "- Educación  -  niv_ed\n",
    "- Estado Civil  -  edo_conyug\n",
    "- Número de hijos  -  hijos_sob\n",
    "- Jóvenes y adultos mayores\n",
    "- Ingresos  -  ict\n",
    "- Transferencias de programas sociales\n",
    "- Remesas  -  remesas\n",
    "- Migración  \n",
    "- Ocupación  -  sinco\n",
    "- Experiencia  \n",
    "- Ahorro  -  deposito\n",
    "- Tipo de trabajo: temporal o permanente  -  tipocontr\n",
    "- Gastos en alimentación u otros rubros\n",
    "- Deudas   -  deudas\n",
    "- Formalidad vs informalidad  -  seguro\n",
    "- Tamaño de empresa en la que trabaja  -  tam_emp\n",
    "- Discapacidad  -  discap"
   ]
  },
  {
   "cell_type": "code",
   "execution_count": 2,
   "id": "c1385fc5",
   "metadata": {
    "collapsed": true
   },
   "outputs": [],
   "source": [
    "#Data wrangling\n",
    "import pandas as pd\n",
    "import numpy as np\n",
    "import random\n",
    "\n",
    "#Visualization\n",
    "import seaborn as sns\n",
    "import matplotlib.pyplot as plt\n",
    "#Jupyter notebook implementation\n",
    "%matplotlib inline "
   ]
  },
  {
   "cell_type": "code",
   "execution_count": 55,
   "id": "386e537c",
   "metadata": {},
   "outputs": [
    {
     "data": {
      "text/html": [
       "<div>\n",
       "<style scoped>\n",
       "    .dataframe tbody tr th:only-of-type {\n",
       "        vertical-align: middle;\n",
       "    }\n",
       "\n",
       "    .dataframe tbody tr th {\n",
       "        vertical-align: top;\n",
       "    }\n",
       "\n",
       "    .dataframe thead th {\n",
       "        text-align: right;\n",
       "    }\n",
       "</style>\n",
       "<table border=\"1\" class=\"dataframe\">\n",
       "  <thead>\n",
       "    <tr style=\"text-align: right;\">\n",
       "      <th></th>\n",
       "      <th>folioviv</th>\n",
       "      <th>foliohog</th>\n",
       "      <th>numren</th>\n",
       "      <th>est_dis</th>\n",
       "      <th>upm</th>\n",
       "      <th>factor</th>\n",
       "      <th>tam_loc</th>\n",
       "      <th>rururb</th>\n",
       "      <th>ent</th>\n",
       "      <th>ubica_geo</th>\n",
       "      <th>...</th>\n",
       "      <th>ict</th>\n",
       "      <th>ing_mon</th>\n",
       "      <th>ing_lab</th>\n",
       "      <th>ing_ren</th>\n",
       "      <th>ing_tra</th>\n",
       "      <th>nomon</th>\n",
       "      <th>pago_esp</th>\n",
       "      <th>reg_esp</th>\n",
       "      <th>hli</th>\n",
       "      <th>discap</th>\n",
       "    </tr>\n",
       "  </thead>\n",
       "  <tbody>\n",
       "    <tr>\n",
       "      <th>0</th>\n",
       "      <td>100013605</td>\n",
       "      <td>1</td>\n",
       "      <td>1</td>\n",
       "      <td>2</td>\n",
       "      <td>1</td>\n",
       "      <td>190</td>\n",
       "      <td>1</td>\n",
       "      <td>0</td>\n",
       "      <td>1</td>\n",
       "      <td>1001</td>\n",
       "      <td>...</td>\n",
       "      <td>5338.478315</td>\n",
       "      <td>5338.478315</td>\n",
       "      <td>4502.050071</td>\n",
       "      <td>0.0</td>\n",
       "      <td>836.428244</td>\n",
       "      <td>0.000000</td>\n",
       "      <td>0.0</td>\n",
       "      <td>0.000000</td>\n",
       "      <td>0.0</td>\n",
       "      <td>0.0</td>\n",
       "    </tr>\n",
       "    <tr>\n",
       "      <th>1</th>\n",
       "      <td>100013605</td>\n",
       "      <td>1</td>\n",
       "      <td>2</td>\n",
       "      <td>2</td>\n",
       "      <td>1</td>\n",
       "      <td>190</td>\n",
       "      <td>1</td>\n",
       "      <td>0</td>\n",
       "      <td>1</td>\n",
       "      <td>1001</td>\n",
       "      <td>...</td>\n",
       "      <td>5338.478315</td>\n",
       "      <td>5338.478315</td>\n",
       "      <td>4502.050071</td>\n",
       "      <td>0.0</td>\n",
       "      <td>836.428244</td>\n",
       "      <td>0.000000</td>\n",
       "      <td>0.0</td>\n",
       "      <td>0.000000</td>\n",
       "      <td>0.0</td>\n",
       "      <td>0.0</td>\n",
       "    </tr>\n",
       "    <tr>\n",
       "      <th>2</th>\n",
       "      <td>100013605</td>\n",
       "      <td>1</td>\n",
       "      <td>3</td>\n",
       "      <td>2</td>\n",
       "      <td>1</td>\n",
       "      <td>190</td>\n",
       "      <td>1</td>\n",
       "      <td>0</td>\n",
       "      <td>1</td>\n",
       "      <td>1001</td>\n",
       "      <td>...</td>\n",
       "      <td>5338.478315</td>\n",
       "      <td>5338.478315</td>\n",
       "      <td>4502.050071</td>\n",
       "      <td>0.0</td>\n",
       "      <td>836.428244</td>\n",
       "      <td>0.000000</td>\n",
       "      <td>0.0</td>\n",
       "      <td>0.000000</td>\n",
       "      <td>0.0</td>\n",
       "      <td>0.0</td>\n",
       "    </tr>\n",
       "    <tr>\n",
       "      <th>3</th>\n",
       "      <td>100013606</td>\n",
       "      <td>1</td>\n",
       "      <td>1</td>\n",
       "      <td>2</td>\n",
       "      <td>1</td>\n",
       "      <td>190</td>\n",
       "      <td>1</td>\n",
       "      <td>0</td>\n",
       "      <td>1</td>\n",
       "      <td>1001</td>\n",
       "      <td>...</td>\n",
       "      <td>8126.299401</td>\n",
       "      <td>8093.723435</td>\n",
       "      <td>7558.290403</td>\n",
       "      <td>0.0</td>\n",
       "      <td>535.433032</td>\n",
       "      <td>32.575966</td>\n",
       "      <td>0.0</td>\n",
       "      <td>32.575966</td>\n",
       "      <td>0.0</td>\n",
       "      <td>0.0</td>\n",
       "    </tr>\n",
       "    <tr>\n",
       "      <th>4</th>\n",
       "      <td>100013606</td>\n",
       "      <td>1</td>\n",
       "      <td>2</td>\n",
       "      <td>2</td>\n",
       "      <td>1</td>\n",
       "      <td>190</td>\n",
       "      <td>1</td>\n",
       "      <td>0</td>\n",
       "      <td>1</td>\n",
       "      <td>1001</td>\n",
       "      <td>...</td>\n",
       "      <td>8126.299401</td>\n",
       "      <td>8093.723435</td>\n",
       "      <td>7558.290403</td>\n",
       "      <td>0.0</td>\n",
       "      <td>535.433032</td>\n",
       "      <td>32.575966</td>\n",
       "      <td>0.0</td>\n",
       "      <td>32.575966</td>\n",
       "      <td>0.0</td>\n",
       "      <td>0.0</td>\n",
       "    </tr>\n",
       "  </tbody>\n",
       "</table>\n",
       "<p>5 rows × 89 columns</p>\n",
       "</div>"
      ],
      "text/plain": [
       "    folioviv  foliohog  numren  est_dis  upm  factor  tam_loc  rururb  ent  \\\n",
       "0  100013605         1       1        2    1     190        1       0    1   \n",
       "1  100013605         1       2        2    1     190        1       0    1   \n",
       "2  100013605         1       3        2    1     190        1       0    1   \n",
       "3  100013606         1       1        2    1     190        1       0    1   \n",
       "4  100013606         1       2        2    1     190        1       0    1   \n",
       "\n",
       "   ubica_geo  ...          ict      ing_mon      ing_lab  ing_ren     ing_tra  \\\n",
       "0       1001  ...  5338.478315  5338.478315  4502.050071      0.0  836.428244   \n",
       "1       1001  ...  5338.478315  5338.478315  4502.050071      0.0  836.428244   \n",
       "2       1001  ...  5338.478315  5338.478315  4502.050071      0.0  836.428244   \n",
       "3       1001  ...  8126.299401  8093.723435  7558.290403      0.0  535.433032   \n",
       "4       1001  ...  8126.299401  8093.723435  7558.290403      0.0  535.433032   \n",
       "\n",
       "       nomon  pago_esp    reg_esp  hli  discap  \n",
       "0   0.000000       0.0   0.000000  0.0     0.0  \n",
       "1   0.000000       0.0   0.000000  0.0     0.0  \n",
       "2   0.000000       0.0   0.000000  0.0     0.0  \n",
       "3  32.575966       0.0  32.575966  0.0     0.0  \n",
       "4  32.575966       0.0  32.575966  0.0     0.0  \n",
       "\n",
       "[5 rows x 89 columns]"
      ]
     },
     "execution_count": 55,
     "metadata": {},
     "output_type": "execute_result"
    }
   ],
   "source": [
    "pobreza_df = pd.read_csv('pobreza_20.csv')\n",
    "pobreza_df.head()"
   ]
  },
  {
   "cell_type": "code",
   "execution_count": 4,
   "id": "84abc67b",
   "metadata": {
    "tags": [
     "hide-input"
    ]
   },
   "outputs": [
    {
     "name": "stdout",
     "output_type": "stream",
     "text": [
      "folioviv      foliohog      numren        est_dis\n",
      "upm           factor        tam_loc       rururb\n",
      "ent           ubica_geo     edad          sexo\n",
      "parentesco    etnia         edo_conyug    hijos_sob\n",
      "remesas       sinco         deposito      tipocontr\n",
      "deudas        seguro        tam_emp       ic_rezedu\n",
      "anac_e        inas_esc      niv_ed        ic_asalud\n",
      "ic_segsoc     sa_dir        ss_dir        s_salud\n",
      "par           jef_ss        cony_ss       hijo_ss\n",
      "pea           jub           pam           ing_pam\n",
      "ic_cv         icv_pisos     icv_muros     icv_techos\n",
      "icv_hac       ic_sbv        isb_agua      isb_dren\n",
      "isb_luz       isb_combus    ic_ali_nc     id_men\n",
      "tot_iaad      tot_iamen     ins_ali       ic_ali\n",
      "lca           dch           plp_e         plp\n",
      "pobreza       pobreza_e     pobreza_m     vul_car\n",
      "vul_ing       no_pobv       i_privacion    carencias\n",
      "carencias3    cuadrantes    prof1         prof_e1\n",
      "profun        int_pob       int_pobe      int_vulcar\n",
      "int_caren     tamhogesc     ictpc         ict\n",
      "ing_mon       ing_lab       ing_ren       ing_tra\n",
      "nomon         pago_esp      reg_esp       hli\n"
     ]
    }
   ],
   "source": [
    "#Lista de todas las variables    \n",
    "columns = 4\n",
    "for first, second, third, fourth in zip(\n",
    "    pobreza_df.columns[::columns], pobreza_df.columns[1::columns], pobreza_df.columns[2::columns], pobreza_df.columns[3::columns]\n",
    "):\n",
    "    print(f'{first: <10}    {second: <10}    {third: <10}    {fourth}')\n"
   ]
  },
  {
   "cell_type": "markdown",
   "id": "9bb65749",
   "metadata": {},
   "source": [
    "## Pobreza en México"
   ]
  },
  {
   "cell_type": "markdown",
   "id": "a985e87c",
   "metadata": {},
   "source": [
    "### Relación entre educación y pobreza por edad"
   ]
  },
  {
   "cell_type": "code",
   "execution_count": 12,
   "id": "0d7090ff",
   "metadata": {
    "tags": [
     "hide-input"
    ]
   },
   "outputs": [
    {
     "data": {
      "text/plain": [
       "<seaborn.axisgrid.FacetGrid at 0x16207992ee0>"
      ]
     },
     "execution_count": 12,
     "metadata": {},
     "output_type": "execute_result"
    },
    {
     "data": {
      "image/png": "[encoded data removed]",
      "text/plain": [
       "<Figure size 1272.12x300 with 4 Axes>"
      ]
     },
     "metadata": {},
     "output_type": "display_data"
    }
   ],
   "source": [
    "grid = sns.FacetGrid(pobreza_df, col = 'niv_ed', hue = 'pobreza')\n",
    "\n",
    "grid.map(plt.hist, 'edad', alpha = .5, bins = 20)\n",
    "grid.add_legend()"
   ]
  },
  {
   "cell_type": "markdown",
   "id": "3fa70866",
   "metadata": {},
   "source": [
    "### Relación entre formalidad y pobreza por edad"
   ]
  },
  {
   "cell_type": "markdown",
   "id": "a74b116b",
   "metadata": {},
   "source": [
    "Una persona se dice que tiene un trabajo formal cuando tiene seguro médico (privado o no) proveído por su trabajo."
   ]
  },
  {
   "cell_type": "code",
   "execution_count": 8,
   "id": "060fe458",
   "metadata": {},
   "outputs": [
    {
     "data": {
      "text/html": [
       "<div>\n",
       "<style scoped>\n",
       "    .dataframe tbody tr th:only-of-type {\n",
       "        vertical-align: middle;\n",
       "    }\n",
       "\n",
       "    .dataframe tbody tr th {\n",
       "        vertical-align: top;\n",
       "    }\n",
       "\n",
       "    .dataframe thead th {\n",
       "        text-align: right;\n",
       "    }\n",
       "</style>\n",
       "<table border=\"1\" class=\"dataframe\">\n",
       "  <thead>\n",
       "    <tr style=\"text-align: right;\">\n",
       "      <th></th>\n",
       "      <th>seguro</th>\n",
       "      <th>pobreza</th>\n",
       "    </tr>\n",
       "  </thead>\n",
       "  <tbody>\n",
       "    <tr>\n",
       "      <th>0</th>\n",
       "      <td>0.0</td>\n",
       "      <td>0.480393</td>\n",
       "    </tr>\n",
       "    <tr>\n",
       "      <th>1</th>\n",
       "      <td>1.0</td>\n",
       "      <td>0.115569</td>\n",
       "    </tr>\n",
       "  </tbody>\n",
       "</table>\n",
       "</div>"
      ],
      "text/plain": [
       "   seguro   pobreza\n",
       "0     0.0  0.480393\n",
       "1     1.0  0.115569"
      ]
     },
     "execution_count": 8,
     "metadata": {},
     "output_type": "execute_result"
    }
   ],
   "source": [
    "pobreza_df[['seguro', 'pobreza']].groupby(['seguro'], as_index = False).mean()"
   ]
  },
  {
   "cell_type": "code",
   "execution_count": 15,
   "id": "4cd46d68",
   "metadata": {
    "tags": [
     "hide-input"
    ]
   },
   "outputs": [
    {
     "data": {
      "text/plain": [
       "<seaborn.axisgrid.FacetGrid at 0x22fc232eb20>"
      ]
     },
     "execution_count": 15,
     "metadata": {},
     "output_type": "execute_result"
    },
    {
     "data": {
      "image/png": "[encoded data removed]",
      "text/plain": [
       "<Figure size 672.125x300 with 2 Axes>"
      ]
     },
     "metadata": {},
     "output_type": "display_data"
    }
   ],
   "source": [
    "grid = sns.FacetGrid(pobreza_df, col = 'seguro', hue = 'pobreza')\n",
    "grid.map(plt.hist, 'edad', alpha = 0.5, bins = 20)\n",
    "grid.add_legend()"
   ]
  },
  {
   "cell_type": "markdown",
   "id": "60db1488",
   "metadata": {},
   "source": [
    "Se puede concluir que existe una relación significativa entre el tipo de empleo y la pobreza. El 48% de las personas con trabajo informal son pobres mientras que solamente el 11.55% de las personas con trabajo formal son pobres.\n",
    "\n",
    "Es posible que esta diferencia se deba a diversas razones. En la mayoría de los casos, los trabajos informales pueden no ofrecer salarios estables o prestaciones laborales, lo que hace que las personas con trabajos informales tengan mayor dificultad para cubrir sus necesidades básicas.\n",
    "\n",
    "También es posible que los trabajos informales no requieran una educación formal o capacitación especializada, lo que limita las oportunidades de progreso y crecimiento laboral, por lo que limita las oportunidades de aumentar los ingresos."
   ]
  },
  {
   "cell_type": "markdown",
   "id": "f9844b95",
   "metadata": {},
   "source": [
    "### Etnicidad y pobreza por edad"
   ]
  },
  {
   "cell_type": "code",
   "execution_count": 14,
   "id": "1731ce32",
   "metadata": {
    "tags": [
     "hide-input"
    ]
   },
   "outputs": [
    {
     "data": {
      "text/html": [
       "<div>\n",
       "<style scoped>\n",
       "    .dataframe tbody tr th:only-of-type {\n",
       "        vertical-align: middle;\n",
       "    }\n",
       "\n",
       "    .dataframe tbody tr th {\n",
       "        vertical-align: top;\n",
       "    }\n",
       "\n",
       "    .dataframe thead th {\n",
       "        text-align: right;\n",
       "    }\n",
       "</style>\n",
       "<table border=\"1\" class=\"dataframe\">\n",
       "  <thead>\n",
       "    <tr style=\"text-align: right;\">\n",
       "      <th></th>\n",
       "      <th>etnia</th>\n",
       "      <th>pobreza</th>\n",
       "    </tr>\n",
       "  </thead>\n",
       "  <tbody>\n",
       "    <tr>\n",
       "      <th>0</th>\n",
       "      <td>1.0</td>\n",
       "      <td>0.535840</td>\n",
       "    </tr>\n",
       "    <tr>\n",
       "      <th>1</th>\n",
       "      <td>2.0</td>\n",
       "      <td>0.364738</td>\n",
       "    </tr>\n",
       "  </tbody>\n",
       "</table>\n",
       "</div>"
      ],
      "text/plain": [
       "   etnia   pobreza\n",
       "0    1.0  0.535840\n",
       "1    2.0  0.364738"
      ]
     },
     "execution_count": 14,
     "metadata": {},
     "output_type": "execute_result"
    }
   ],
   "source": [
    "pobreza_df[['etnia', 'pobreza']].groupby(['etnia'], as_index = False).mean()"
   ]
  },
  {
   "cell_type": "code",
   "execution_count": 11,
   "id": "58cee078",
   "metadata": {
    "tags": [
     "hide-input"
    ]
   },
   "outputs": [
    {
     "data": {
      "text/plain": [
       "<seaborn.axisgrid.FacetGrid at 0x22fc1eb24c0>"
      ]
     },
     "execution_count": 11,
     "metadata": {},
     "output_type": "execute_result"
    },
    {
     "data": {
      "image/png": "[encoded data removed]",
      "text/plain": [
       "<Figure size 672.125x300 with 2 Axes>"
      ]
     },
     "metadata": {},
     "output_type": "display_data"
    }
   ],
   "source": [
    "grid = sns.FacetGrid(pobreza_df, col = 'etnia', hue = 'pobreza')\n",
    "grid.map(plt.hist, 'edad', alpha = 0.5, bins = 20)\n",
    "grid.add_legend()"
   ]
  },
  {
   "cell_type": "markdown",
   "id": "96889c2a",
   "metadata": {},
   "source": [
    "Siguiendo el descriptor de bases de la ENIGH, cuando etnia toma el valor de 2 quiere decir que la persona **no** se considera indígena."
   ]
  },
  {
   "cell_type": "markdown",
   "id": "f1122a99",
   "metadata": {},
   "source": [
    "### Situación conyugal y pobreza"
   ]
  },
  {
   "cell_type": "code",
   "execution_count": 13,
   "id": "e8e8c15e",
   "metadata": {},
   "outputs": [
    {
     "data": {
      "text/html": [
       "<div>\n",
       "<style scoped>\n",
       "    .dataframe tbody tr th:only-of-type {\n",
       "        vertical-align: middle;\n",
       "    }\n",
       "\n",
       "    .dataframe tbody tr th {\n",
       "        vertical-align: top;\n",
       "    }\n",
       "\n",
       "    .dataframe thead th {\n",
       "        text-align: right;\n",
       "    }\n",
       "</style>\n",
       "<table border=\"1\" class=\"dataframe\">\n",
       "  <thead>\n",
       "    <tr style=\"text-align: right;\">\n",
       "      <th></th>\n",
       "      <th>edo_conyug</th>\n",
       "      <th>pobreza</th>\n",
       "    </tr>\n",
       "  </thead>\n",
       "  <tbody>\n",
       "    <tr>\n",
       "      <th>0</th>\n",
       "      <td>1.0</td>\n",
       "      <td>0.477919</td>\n",
       "    </tr>\n",
       "    <tr>\n",
       "      <th>1</th>\n",
       "      <td>2.0</td>\n",
       "      <td>0.367542</td>\n",
       "    </tr>\n",
       "    <tr>\n",
       "      <th>2</th>\n",
       "      <td>3.0</td>\n",
       "      <td>0.407070</td>\n",
       "    </tr>\n",
       "    <tr>\n",
       "      <th>3</th>\n",
       "      <td>4.0</td>\n",
       "      <td>0.237537</td>\n",
       "    </tr>\n",
       "    <tr>\n",
       "      <th>4</th>\n",
       "      <td>5.0</td>\n",
       "      <td>0.382192</td>\n",
       "    </tr>\n",
       "    <tr>\n",
       "      <th>5</th>\n",
       "      <td>6.0</td>\n",
       "      <td>0.408685</td>\n",
       "    </tr>\n",
       "  </tbody>\n",
       "</table>\n",
       "</div>"
      ],
      "text/plain": [
       "   edo_conyug   pobreza\n",
       "0         1.0  0.477919\n",
       "1         2.0  0.367542\n",
       "2         3.0  0.407070\n",
       "3         4.0  0.237537\n",
       "4         5.0  0.382192\n",
       "5         6.0  0.408685"
      ]
     },
     "execution_count": 13,
     "metadata": {},
     "output_type": "execute_result"
    }
   ],
   "source": [
    "pobreza_df[['edo_conyug', 'pobreza']].groupby(['edo_conyug'], as_index = False).mean()\n",
    "# 1. Vive con su pareja o unión libre\n",
    "# 2. Está casado(a)\n",
    "# 3. Está separado(a)\n",
    "# 4. Está divorciado(a)\n",
    "# 5. Es viudo(a)\n",
    "# 6. Está soltero(a)"
   ]
  },
  {
   "cell_type": "code",
   "execution_count": 20,
   "id": "b1a6bf49",
   "metadata": {
    "tags": [
     "hide-input"
    ]
   },
   "outputs": [
    {
     "data": {
      "text/plain": [
       "<seaborn.axisgrid.FacetGrid at 0x22fc314b940>"
      ]
     },
     "execution_count": 20,
     "metadata": {},
     "output_type": "execute_result"
    },
    {
     "data": {
      "image/png": "[encoded data removed]",
      "text/plain": [
       "<Figure size 600x300 with 2 Axes>"
      ]
     },
     "metadata": {},
     "output_type": "display_data"
    }
   ],
   "source": [
    "grid = sns.FacetGrid(pobreza_df, col = 'pobreza')\n",
    "grid.map(plt.hist, 'edo_conyug')"
   ]
  },
  {
   "cell_type": "markdown",
   "id": "54cdf401",
   "metadata": {},
   "source": [
    "La situación conyugal pudiera no ser un determinante relevante de la pobreza ya que las personas de todos los estados civiles tienen una tasa de pobreza significativa. \n",
    "\n",
    "Existe una diferencia significativa entre las personas que viven con su pareja (unión libre) y las personas casadas, una teoría obvia es que las personas sin dinero es menos probable que se casen por lo que permanecen en unión libre. \n",
    "\n",
    "Las personas que viven con su pareja tienen la tasa más alta de pobreza, seguidas por los separados y los solteros. Mientras que las personas divorciadas y casadas tienen tasas de pobreza relativamente más bajas. Siendo las personas divorciadas las _menos pobres_. Esto puede explicarse con que un divorcio es costoso por los que aquellos con más dinero estarían dispuestos a pagarlo mientras que los demás simplemente se separan."
   ]
  },
  {
   "cell_type": "code",
   "execution_count": 63,
   "id": "11801553",
   "metadata": {},
   "outputs": [
    {
     "data": {
      "text/plain": [
       "<seaborn.axisgrid.FacetGrid at 0x22f97cb0fd0>"
      ]
     },
     "execution_count": 63,
     "metadata": {},
     "output_type": "execute_result"
    },
    {
     "data": {
      "image/png": "[encoded data removed]",
      "text/plain": [
       "<Figure size 611.111x300 with 2 Axes>"
      ]
     },
     "metadata": {},
     "output_type": "display_data"
    }
   ],
   "source": [
    "pobreza_df[\"sinco\"] = pobreza_df['sinco'].fillna(0)\n",
    "pobreza_df[\"trabajo\"] = pobreza_df.sinco.astype(str).str[:1]\n",
    "pobreza_df[\"trabajo\"] = pobreza_df[\"trabajo\"].astype(float)\n",
    "\n",
    "grid = sns.FacetGrid(pobreza_df, col = 'pobreza')\n",
    "grid.set(xlim = (1,9))\n",
    "grid.set(ylim = (0, 25000))\n",
    "grid.map(plt.hist, 'trabajo')\n",
    "grid.add_legend()"
   ]
  },
  {
   "cell_type": "code",
   "execution_count": 62,
   "id": "75febfe5",
   "metadata": {},
   "outputs": [
    {
     "data": {
      "text/html": [
       "<div>\n",
       "<style scoped>\n",
       "    .dataframe tbody tr th:only-of-type {\n",
       "        vertical-align: middle;\n",
       "    }\n",
       "\n",
       "    .dataframe tbody tr th {\n",
       "        vertical-align: top;\n",
       "    }\n",
       "\n",
       "    .dataframe thead th {\n",
       "        text-align: right;\n",
       "    }\n",
       "</style>\n",
       "<table border=\"1\" class=\"dataframe\">\n",
       "  <thead>\n",
       "    <tr style=\"text-align: right;\">\n",
       "      <th></th>\n",
       "      <th>trabajo</th>\n",
       "      <th>pobreza</th>\n",
       "    </tr>\n",
       "  </thead>\n",
       "  <tbody>\n",
       "    <tr>\n",
       "      <th>1</th>\n",
       "      <td>1.0</td>\n",
       "      <td>0.076080</td>\n",
       "    </tr>\n",
       "    <tr>\n",
       "      <th>2</th>\n",
       "      <td>2.0</td>\n",
       "      <td>0.143903</td>\n",
       "    </tr>\n",
       "    <tr>\n",
       "      <th>3</th>\n",
       "      <td>3.0</td>\n",
       "      <td>0.156028</td>\n",
       "    </tr>\n",
       "    <tr>\n",
       "      <th>8</th>\n",
       "      <td>8.0</td>\n",
       "      <td>0.235481</td>\n",
       "    </tr>\n",
       "    <tr>\n",
       "      <th>5</th>\n",
       "      <td>5.0</td>\n",
       "      <td>0.320686</td>\n",
       "    </tr>\n",
       "    <tr>\n",
       "      <th>4</th>\n",
       "      <td>4.0</td>\n",
       "      <td>0.358844</td>\n",
       "    </tr>\n",
       "    <tr>\n",
       "      <th>7</th>\n",
       "      <td>7.0</td>\n",
       "      <td>0.446248</td>\n",
       "    </tr>\n",
       "    <tr>\n",
       "      <th>0</th>\n",
       "      <td>0.0</td>\n",
       "      <td>0.464451</td>\n",
       "    </tr>\n",
       "    <tr>\n",
       "      <th>9</th>\n",
       "      <td>9.0</td>\n",
       "      <td>0.504758</td>\n",
       "    </tr>\n",
       "    <tr>\n",
       "      <th>6</th>\n",
       "      <td>6.0</td>\n",
       "      <td>0.574947</td>\n",
       "    </tr>\n",
       "  </tbody>\n",
       "</table>\n",
       "</div>"
      ],
      "text/plain": [
       "   trabajo   pobreza\n",
       "1      1.0  0.076080\n",
       "2      2.0  0.143903\n",
       "3      3.0  0.156028\n",
       "8      8.0  0.235481\n",
       "5      5.0  0.320686\n",
       "4      4.0  0.358844\n",
       "7      7.0  0.446248\n",
       "0      0.0  0.464451\n",
       "9      9.0  0.504758\n",
       "6      6.0  0.574947"
      ]
     },
     "execution_count": 62,
     "metadata": {},
     "output_type": "execute_result"
    }
   ],
   "source": [
    "pobreza_df[['trabajo', 'pobreza']].groupby(['trabajo'], as_index = False).mean().sort_values(by = 'pobreza', ascending = True)\n",
    "\n",
    "# 1. Funcionarios, directores y jefes\n",
    "# 2. Profesionistas y técnicos\n",
    "# 3. Trabajadores auxiliaries en actividades administrativas\n",
    "# 4. Comerciantes, empleados en ventas y agentes de ventas\n",
    "# 5. Trabajadores en servicios personales y de vigilancia\n",
    "# 6. Trabajadores en actividades agrícolas, ganaderas, forestales, caza y pesca\n",
    "# 7. Trabajadores artesanales, en las construcción u otros oficios\n",
    "# 8. Operadores de maquinaria industrial, ensambladores, choferes y conductores de transporte\n",
    "# 9. Trabajadores en actividades elemenatles y de apoyo"
   ]
  },
  {
   "cell_type": "markdown",
   "id": "cb4abb33",
   "metadata": {},
   "source": [
    "A partir de los datos proporcionados, se puede concluir que hay una fuerte relación entre el tipo de trabajo y la pobreza en México. En general, las personas que trabajan en ocupaciones que requieren habilidades y educación más avanzadas, como los funcionarios, directores y jefes, y los profesionales y técnicos, tienen tasas de pobreza significativamente más bajas en comparación con los trabajadores en ocupaciones que no requieren tanta educación o habilidades especializadas.\n",
    "\n",
    "Los trabajos donde hay menos pobres, intuitivamente, son:\n",
    "- Funcionarios, directores y jefes.\n",
    "- Profesionistas y técnicos\n",
    "\n",
    "Mientras que los trabajos con más población en pobreza son:\n",
    "\n",
    "- Trabajadores en actividades agrícolas, ganaderas, forestales, caza y pesca\n",
    "- Trabajadores en actividades elementales y de apoyo\n",
    "\n",
    "Este último, según la INEGI, clasifican los trabajadores que auxilian los procesos productivos, realizando actividades sencillas\n",
    "y rutinarias que implican básicamente esfuerzo físico, destreza motriz y conocimientos básicos que se aprenden en la práctica en sólo unas jornadas de trabajo.\n",
    "\n",
    "Estos datos sugieren que la educación y las habilidades son factores importantes que influyen en las oportunidades laborales y la reducción de la pobreza en México. Además, indican la necesidad de políticas y programas que apoyen la formación y capacitación de habilidades para mejorar el acceso a trabajos mejor remunerados y reducir la pobreza en el país."
   ]
  }
 ],
 "metadata": {
  "kernelspec": {
   "display_name": "Python 3 (ipykernel)",
   "language": "python",
   "name": "python3"
  },
  "language_info": {
   "codemirror_mode": {
    "name": "ipython",
    "version": 3
   },
   "file_extension": ".py",
   "mimetype": "text/x-python",
   "name": "python",
   "nbconvert_exporter": "python",
   "pygments_lexer": "ipython3",
   "version": "3.9.15"
  }
 },
 "nbformat": 4,
 "nbformat_minor": 5
}
